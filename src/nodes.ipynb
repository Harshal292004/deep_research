{
 "cells": [
  {
   "cell_type": "code",
   "execution_count": 10,
   "metadata": {},
   "outputs": [
    {
     "ename": "ImportError",
     "evalue": "cannot import name 'get_verify_report_framework_chain' from 'chains' (/home/harshal/Desktop/deep_research/src/chains.py)",
     "output_type": "error",
     "traceback": [
      "\u001b[0;31m---------------------------------------------------------------------------\u001b[0m",
      "\u001b[0;31mImportError\u001b[0m                               Traceback (most recent call last)",
      "Cell \u001b[0;32mIn[10], line 3\u001b[0m\n\u001b[1;32m      1\u001b[0m \u001b[38;5;28;01mfrom\u001b[39;00m\u001b[38;5;250m \u001b[39m\u001b[38;5;21;01mutilities\u001b[39;00m\u001b[38;5;21;01m.\u001b[39;00m\u001b[38;5;21;01mapp_state\u001b[39;00m\u001b[38;5;250m \u001b[39m\u001b[38;5;28;01mimport\u001b[39;00m RouterResponse,AppState\n\u001b[1;32m      2\u001b[0m \u001b[38;5;28;01mfrom\u001b[39;00m\u001b[38;5;250m \u001b[39m\u001b[38;5;21;01mutilities\u001b[39;00m\u001b[38;5;21;01m.\u001b[39;00m\u001b[38;5;21;01mLLMProvider\u001b[39;00m\u001b[38;5;250m \u001b[39m\u001b[38;5;28;01mimport\u001b[39;00m LLMProvider\n\u001b[0;32m----> 3\u001b[0m \u001b[38;5;28;01mfrom\u001b[39;00m\u001b[38;5;250m \u001b[39m\u001b[38;5;21;01mchains\u001b[39;00m\u001b[38;5;250m \u001b[39m\u001b[38;5;28;01mimport\u001b[39;00m  get_router_chain,get_header_chain,get_section_writer_chain,get_footer_writer_chain,get_refrences_writter_chain,get_verify_report_framework_chain\n\u001b[1;32m      4\u001b[0m \u001b[38;5;28;01mfrom\u001b[39;00m\u001b[38;5;250m \u001b[39m\u001b[38;5;21;01mutilities\u001b[39;00m\u001b[38;5;21;01m.\u001b[39;00m\u001b[38;5;21;01mreport_state\u001b[39;00m\u001b[38;5;250m \u001b[39m\u001b[38;5;28;01mimport\u001b[39;00m Section,Sections,Footer,Header,Reference,ReportState\n",
      "\u001b[0;31mImportError\u001b[0m: cannot import name 'get_verify_report_framework_chain' from 'chains' (/home/harshal/Desktop/deep_research/src/chains.py)"
     ]
    }
   ],
   "source": [
    "from utilities.app_state import RouterResponse,AppState\n",
    "from utilities.LLMProvider import LLMProvider\n",
    "from chains import  get_router_chain,get_header_chain,get_section_writer_chain,get_footer_writer_chain,get_refrences_writter_chain,get_verify_report_framework_chain\n",
    "from utilities.report_state import Section,Sections,Footer,Header,Reference,ReportState"
   ]
  },
  {
   "cell_type": "code",
   "execution_count": 7,
   "metadata": {},
   "outputs": [],
   "source": [
    "def router_node(state:ReportState):\n",
    "    query=state.query\n",
    "    chain= get_router_chain()\n",
    "    response=chain.invoke(\n",
    "        {\n",
    "            \"query\":query\n",
    "        }\n",
    "    )\n",
    "    type_of_query =response.type_of_query\n",
    "    return{\n",
    "        \"type_of_query\":type_of_query\n",
    "    }"
   ]
  },
  {
   "cell_type": "code",
   "execution_count": 3,
   "metadata": {},
   "outputs": [],
   "source": [
    "def header_writer_node(state:ReportState):\n",
    "    query= state.query\n",
    "    type_of_query= state.type_of_query\n",
    "    chain= get_header_chain()\n",
    "    response=chain.invoke(\n",
    "        {\n",
    "            \"query\":query,\n",
    "            \"type_of_query\":type_of_query\n",
    "        }\n",
    "    )\n",
    "    return {\n",
    "        \"header\":{\n",
    "            \"title\":response.title,\n",
    "            \"summary\":response.summary,\n",
    "        }\n",
    "    }"
   ]
  },
  {
   "cell_type": "code",
   "execution_count": 5,
   "metadata": {},
   "outputs": [],
   "source": [
    "def section_writer_node(state:ReportState):\n",
    "    query= state.query\n",
    "    type_of_query= state.type_of_query\n",
    "    title_of_report=state.header.title\n",
    "    summary_of_report= state.header.summary\n",
    "    chain= get_section_writer_chain()\n",
    "    response= chain.invoke(\n",
    "        {\n",
    "            \"query\":query,\n",
    "            \"type_of_query\":type_of_query,\n",
    "            \"title\":title_of_report,\n",
    "            \"summary\":summary_of_report\n",
    "        }\n",
    "    )\n",
    "    sections=response.sections\n",
    "    ouptut=[]\n",
    "    for sec in sections:\n",
    "        ouptut.append(\n",
    "            {\n",
    "                \"section_id\":sec.section_id,\n",
    "                \"name\":sec.name,\n",
    "                \"description\":sec.description ,\n",
    "                \"research\":sec.research,\n",
    "                \"content\":sec.content\n",
    "            }\n",
    "        )\n",
    "    \n",
    "    return{\n",
    "        \"sections\":output\n",
    "    }"
   ]
  },
  {
   "cell_type": "code",
   "execution_count": 6,
   "metadata": {},
   "outputs": [],
   "source": [
    "def footer_writer_node(state:ReportState):\n",
    "    query= state.query\n",
    "    type_of_query= state.type_of_query\n",
    "    sections= state.sections\n",
    "    chain= get_footer_writer_chain()\n",
    "    section_string=\"\"\n",
    "    \n",
    "    for sec in sections:\n",
    "        section_string.join(f\"\\n section_id:{sec.section_id} name: {sec.name} description: {sec.description} research: {sec.research} content: {sec.content}\")\n",
    "    \n",
    "    response=chain.invoke(\n",
    "        {\n",
    "            \"query\":query,\n",
    "            \"type_of_query\":type_of_query,\n",
    "            \"sections\":section_string\n",
    "        }\n",
    "    )\n",
    "    \n",
    "    return {\n",
    "        \"footer\": {\n",
    "            \"conclusion\":response.conclusion\n",
    "        }\n",
    "    }"
   ]
  },
  {
   "cell_type": "code",
   "execution_count": 8,
   "metadata": {},
   "outputs": [],
   "source": [
    "def refrence_writer_node(state:ReportState):\n",
    "    query= state.query\n",
    "    type_of_query= state.type_of_query\n",
    "    chain= get_refrences_writter_chain()\n",
    "    sections=state.sections\n",
    "    for sec in sections:\n",
    "        section_string.join(f\"\\n section_id:{sec.section_id} name: {sec.name} description: {sec.description} research: {sec.research} content: {sec.content}\")\n",
    "    \n",
    "    response=chain.invoke(\n",
    "        {\n",
    "            \"query\":query,\n",
    "            \"type_of_query\":type_of_query,\n",
    "            \"sections\":section_string\n",
    "        }\n",
    "    )\n",
    "    output_ref=[]\n",
    "    for ref in response.refreces:\n",
    "        output_ref.append(\n",
    "            {\n",
    "                \"section_id\":ref.section_id,\n",
    "                \"section_name\":ref.section_name,\n",
    "                \"source_url\": ref.source_url\n",
    "            }\n",
    "        )\n",
    "    \n",
    "    return {\n",
    "        \"refrences\":{\n",
    "            \"refrences\":output_ref\n",
    "        }\n",
    "    }\n",
    "    "
   ]
  },
  {
   "cell_type": "code",
   "execution_count": 11,
   "metadata": {},
   "outputs": [],
   "source": [
    "def verify_report_framework_node(state:ReportState):\n",
    "    chain= get_verify_report_framework_chain()\n",
    "    report_string=\"\"\n",
    "    \n",
    "    report_string.join(f\"\\n ##Header \\n {state.header.title} {state.header.summary} \\n\\n ## Sections \\n\")\n",
    "    for sec in state.sections:\n",
    "        report_string.join(f\"\\n section_id:{sec.section_id} name: {sec.name} description: {sec.description} research: {sec.research} content: {sec.content} \\n\\n\")\n",
    "    \n",
    "    report_string.join(f\"## Footer \\n {state.footer.conclusion} \\n\\n\")\n",
    "    \n",
    "    response= chain.invoke(\n",
    "        {\n",
    "            \"report_structure\":report_string\n",
    "        }\n",
    "    )\n",
    "    \n",
    "    return{\n",
    "        \"report_framework_good\":response.verified\n",
    "    }"
   ]
  },
  {
   "cell_type": "code",
   "execution_count": null,
   "metadata": {},
   "outputs": [],
   "source": []
  }
 ],
 "metadata": {
  "kernelspec": {
   "display_name": ".venv",
   "language": "python",
   "name": "python3"
  },
  "language_info": {
   "codemirror_mode": {
    "name": "ipython",
    "version": 3
   },
   "file_extension": ".py",
   "mimetype": "text/x-python",
   "name": "python",
   "nbconvert_exporter": "python",
   "pygments_lexer": "ipython3",
   "version": "3.10.16"
  }
 },
 "nbformat": 4,
 "nbformat_minor": 2
}
