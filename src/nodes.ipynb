{
 "cells": [
  {
   "cell_type": "code",
   "execution_count": 3,
   "metadata": {},
   "outputs": [],
   "source": [
    "from utilities.app_state import RouterResponse,AppState\n",
    "from utilities.LLMProvider import LLMProvider\n",
    "from chains import  get_router_chain\n",
    "from utilities.report_state import Section,Sections,Footer,Header,Reference,ReportState"
   ]
  },
  {
   "cell_type": "code",
   "execution_count": 6,
   "metadata": {},
   "outputs": [],
   "source": [
    "def router_node(state:AppState):\n",
    "    query=state.query\n",
    "    chain= get_router_chain()\n",
    "    response=chain.invoke(\n",
    "        {\n",
    "            \"query\":query\n",
    "        }\n",
    "    )\n",
    "    type_of_query =response.type_of_query\n",
    "    return{\n",
    "        \"type_of_query\":type_of_query\n",
    "    }"
   ]
  },
  {
   "cell_type": "code",
   "execution_count": null,
   "metadata": {},
   "outputs": [],
   "source": [
    "def section_writter_state(state:AppState):\n",
    "    type_of_query= state.query\n",
    "    "
   ]
  }
 ],
 "metadata": {
  "kernelspec": {
   "display_name": ".venv",
   "language": "python",
   "name": "python3"
  },
  "language_info": {
   "codemirror_mode": {
    "name": "ipython",
    "version": 3
   },
   "file_extension": ".py",
   "mimetype": "text/x-python",
   "name": "python",
   "nbconvert_exporter": "python",
   "pygments_lexer": "ipython3",
   "version": "3.10.16"
  }
 },
 "nbformat": 4,
 "nbformat_minor": 2
}
